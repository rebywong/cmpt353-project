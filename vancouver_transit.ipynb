{
 "cells": [
  {
   "cell_type": "markdown",
   "id": "c6e47d62",
   "metadata": {},
   "source": [
    "# Vancouver Transit Exploration Task\n",
    "## CMPT 353 Final Project\n",
    "### Jason Cai, Rebekah Wong (Group: \"Mute Jammers\")"
   ]
  },
  {
   "cell_type": "code",
   "execution_count": 1,
   "id": "60ce8cdb",
   "metadata": {},
   "outputs": [],
   "source": [
    "import geopandas as gpd\n",
    "import matplotlib.pyplot as plt\n",
    "import numpy as np"
   ]
  },
  {
   "cell_type": "markdown",
   "id": "abffe43f",
   "metadata": {},
   "source": [
    "## Introduction: looking at transit data as is"
   ]
  },
  {
   "cell_type": "code",
   "execution_count": 2,
   "id": "027bc867",
   "metadata": {},
   "outputs": [
    {
     "data": {
      "text/html": [
       "<div>\n",
       "<style scoped>\n",
       "    .dataframe tbody tr th:only-of-type {\n",
       "        vertical-align: middle;\n",
       "    }\n",
       "\n",
       "    .dataframe tbody tr th {\n",
       "        vertical-align: top;\n",
       "    }\n",
       "\n",
       "    .dataframe thead th {\n",
       "        text-align: right;\n",
       "    }\n",
       "</style>\n",
       "<table border=\"1\" class=\"dataframe\">\n",
       "  <thead>\n",
       "    <tr style=\"text-align: right;\">\n",
       "      <th></th>\n",
       "      <th>city</th>\n",
       "      <th>year</th>\n",
       "      <th>transit_quality</th>\n",
       "      <th>geometry</th>\n",
       "    </tr>\n",
       "  </thead>\n",
       "  <tbody>\n",
       "    <tr>\n",
       "      <th>0</th>\n",
       "      <td>Vancouver</td>\n",
       "      <td>2010</td>\n",
       "      <td>6.232349</td>\n",
       "      <td>POLYGON ((498310.190 5459815.920, 498309.638 5...</td>\n",
       "    </tr>\n",
       "    <tr>\n",
       "      <th>1</th>\n",
       "      <td>Vancouver</td>\n",
       "      <td>2010</td>\n",
       "      <td>86.331070</td>\n",
       "      <td>POLYGON ((498303.642 5459212.268, 498303.155 5...</td>\n",
       "    </tr>\n",
       "    <tr>\n",
       "      <th>2</th>\n",
       "      <td>Vancouver</td>\n",
       "      <td>2010</td>\n",
       "      <td>125.565256</td>\n",
       "      <td>POLYGON ((497940.841 5459213.445, 497940.812 5...</td>\n",
       "    </tr>\n",
       "    <tr>\n",
       "      <th>3</th>\n",
       "      <td>Vancouver</td>\n",
       "      <td>2010</td>\n",
       "      <td>246.654575</td>\n",
       "      <td>POLYGON ((498298.679 5458709.775, 498298.646 5...</td>\n",
       "    </tr>\n",
       "    <tr>\n",
       "      <th>4</th>\n",
       "      <td>Vancouver</td>\n",
       "      <td>2010</td>\n",
       "      <td>150.230499</td>\n",
       "      <td>POLYGON ((497939.463 5458606.665, 498128.359 5...</td>\n",
       "    </tr>\n",
       "    <tr>\n",
       "      <th>...</th>\n",
       "      <td>...</td>\n",
       "      <td>...</td>\n",
       "      <td>...</td>\n",
       "      <td>...</td>\n",
       "    </tr>\n",
       "    <tr>\n",
       "      <th>5947</th>\n",
       "      <td>Vancouver</td>\n",
       "      <td>2020</td>\n",
       "      <td>1795.115966</td>\n",
       "      <td>POLYGON ((491123.035 5459615.245, 491120.710 5...</td>\n",
       "    </tr>\n",
       "    <tr>\n",
       "      <th>5948</th>\n",
       "      <td>Vancouver</td>\n",
       "      <td>2020</td>\n",
       "      <td>1819.825217</td>\n",
       "      <td>POLYGON ((491676.840 5459587.193, 491605.386 5...</td>\n",
       "    </tr>\n",
       "    <tr>\n",
       "      <th>5949</th>\n",
       "      <td>Vancouver</td>\n",
       "      <td>2020</td>\n",
       "      <td>1001.975525</td>\n",
       "      <td>POLYGON ((492570.830 5458268.003, 492570.838 5...</td>\n",
       "    </tr>\n",
       "    <tr>\n",
       "      <th>5950</th>\n",
       "      <td>Vancouver</td>\n",
       "      <td>2020</td>\n",
       "      <td>2782.914647</td>\n",
       "      <td>POLYGON ((492175.437 5458706.854, 492275.116 5...</td>\n",
       "    </tr>\n",
       "    <tr>\n",
       "      <th>5951</th>\n",
       "      <td>Vancouver</td>\n",
       "      <td>2020</td>\n",
       "      <td>2198.109696</td>\n",
       "      <td>POLYGON ((492742.239 5458227.186, 492740.089 5...</td>\n",
       "    </tr>\n",
       "  </tbody>\n",
       "</table>\n",
       "<p>3968 rows × 4 columns</p>\n",
       "</div>"
      ],
      "text/plain": [
       "           city  year  transit_quality  \\\n",
       "0     Vancouver  2010         6.232349   \n",
       "1     Vancouver  2010        86.331070   \n",
       "2     Vancouver  2010       125.565256   \n",
       "3     Vancouver  2010       246.654575   \n",
       "4     Vancouver  2010       150.230499   \n",
       "...         ...   ...              ...   \n",
       "5947  Vancouver  2020      1795.115966   \n",
       "5948  Vancouver  2020      1819.825217   \n",
       "5949  Vancouver  2020      1001.975525   \n",
       "5950  Vancouver  2020      2782.914647   \n",
       "5951  Vancouver  2020      2198.109696   \n",
       "\n",
       "                                               geometry  \n",
       "0     POLYGON ((498310.190 5459815.920, 498309.638 5...  \n",
       "1     POLYGON ((498303.642 5459212.268, 498303.155 5...  \n",
       "2     POLYGON ((497940.841 5459213.445, 497940.812 5...  \n",
       "3     POLYGON ((498298.679 5458709.775, 498298.646 5...  \n",
       "4     POLYGON ((497939.463 5458606.665, 498128.359 5...  \n",
       "...                                                 ...  \n",
       "5947  POLYGON ((491123.035 5459615.245, 491120.710 5...  \n",
       "5948  POLYGON ((491676.840 5459587.193, 491605.386 5...  \n",
       "5949  POLYGON ((492570.830 5458268.003, 492570.838 5...  \n",
       "5950  POLYGON ((492175.437 5458706.854, 492275.116 5...  \n",
       "5951  POLYGON ((492742.239 5458227.186, 492740.089 5...  \n",
       "\n",
       "[3968 rows x 4 columns]"
      ]
     },
     "execution_count": 2,
     "metadata": {},
     "output_type": "execute_result"
    }
   ],
   "source": [
    "# Read transit data from directory\n",
    "transit = gpd.read_file(\"data/transit.zip\")\n",
    "\n",
    "# Rename columns for clarity\n",
    "transit = transit.rename(columns={'csdname':'city', 'policy_yea':'year', 'transit_qu':'transit_quality'})\n",
    "\n",
    "# Only keep necessary columns for analysis\n",
    "transit = transit[['city', 'year', 'transit_quality', 'geometry']]\n",
    "\n",
    "# Need to use \"|\" instead of Python \"or\" to prevent ambiguity error - https://stackoverflow.com/q/36921951\n",
    "transit = transit[(transit['year'] == 2010) | (transit['year'] == 2015) | (transit['year'] == 2020)]\n",
    "\n",
    "transit"
   ]
  },
  {
   "cell_type": "code",
   "execution_count": 3,
   "id": "4f888f36",
   "metadata": {
    "scrolled": true
   },
   "outputs": [
    {
     "data": {
      "text/plain": [
       "<AxesSubplot:>"
      ]
     },
     "execution_count": 3,
     "metadata": {},
     "output_type": "execute_result"
    },
    {
     "data": {
      "image/png": "[encoded data removed]",
      "text/plain": [
       "<Figure size 432x288 with 1 Axes>"
      ]
     },
     "metadata": {
      "needs_background": "light"
     },
     "output_type": "display_data"
    }
   ],
   "source": [
    "# Plot map of Vancouver based on geometry shapes in data\n",
    "transit.plot(column='geometry')"
   ]
  },
  {
   "cell_type": "code",
   "execution_count": 4,
   "id": "cc2aef11",
   "metadata": {},
   "outputs": [
    {
     "data": {
      "text/plain": [
       "<AxesSubplot:>"
      ]
     },
     "execution_count": 4,
     "metadata": {},
     "output_type": "execute_result"
    },
    {
     "data": {
      "image/png": "[encoded data removed]",
      "text/plain": [
       "<Figure size 432x288 with 2 Axes>"
      ]
     },
     "metadata": {
      "needs_background": "light"
     },
     "output_type": "display_data"
    }
   ],
   "source": [
    "# Transit quality needs cleaning! Graph does not look very informative as is :(\n",
    "# https://geopandas.org/en/stable/docs/user_guide/mapping.html\n",
    "transit.plot(column='transit_quality', legend=True, legend_kwds={'label':'Transit Quality'})"
   ]
  },
  {
   "cell_type": "code",
   "execution_count": 5,
   "id": "c1e572b9",
   "metadata": {
    "scrolled": true
   },
   "outputs": [
    {
     "data": {
      "text/html": [
       "<div>\n",
       "<style scoped>\n",
       "    .dataframe tbody tr th:only-of-type {\n",
       "        vertical-align: middle;\n",
       "    }\n",
       "\n",
       "    .dataframe tbody tr th {\n",
       "        vertical-align: top;\n",
       "    }\n",
       "\n",
       "    .dataframe thead th {\n",
       "        text-align: right;\n",
       "    }\n",
       "</style>\n",
       "<table border=\"1\" class=\"dataframe\">\n",
       "  <thead>\n",
       "    <tr style=\"text-align: right;\">\n",
       "      <th></th>\n",
       "      <th>city</th>\n",
       "      <th>year</th>\n",
       "      <th>transit_quality</th>\n",
       "      <th>geometry</th>\n",
       "    </tr>\n",
       "  </thead>\n",
       "  <tbody>\n",
       "    <tr>\n",
       "      <th>5840</th>\n",
       "      <td>Vancouver</td>\n",
       "      <td>2020</td>\n",
       "      <td>4765.249599</td>\n",
       "      <td>POLYGON ((492095.223 5459290.725, 492082.463 5...</td>\n",
       "    </tr>\n",
       "    <tr>\n",
       "      <th>2864</th>\n",
       "      <td>Vancouver</td>\n",
       "      <td>2020</td>\n",
       "      <td>4549.568024</td>\n",
       "      <td>POLYGON ((492095.223 5459290.725, 492082.463 5...</td>\n",
       "    </tr>\n",
       "    <tr>\n",
       "      <th>5872</th>\n",
       "      <td>Vancouver</td>\n",
       "      <td>2020</td>\n",
       "      <td>4509.035780</td>\n",
       "      <td>POLYGON ((492085.822 5459067.742, 492071.152 5...</td>\n",
       "    </tr>\n",
       "    <tr>\n",
       "      <th>1872</th>\n",
       "      <td>Vancouver</td>\n",
       "      <td>2015</td>\n",
       "      <td>4457.191718</td>\n",
       "      <td>POLYGON ((492095.223 5459290.725, 492082.463 5...</td>\n",
       "    </tr>\n",
       "    <tr>\n",
       "      <th>880</th>\n",
       "      <td>Vancouver</td>\n",
       "      <td>2010</td>\n",
       "      <td>4420.839584</td>\n",
       "      <td>POLYGON ((492095.223 5459290.725, 492082.463 5...</td>\n",
       "    </tr>\n",
       "    <tr>\n",
       "      <th>...</th>\n",
       "      <td>...</td>\n",
       "      <td>...</td>\n",
       "      <td>...</td>\n",
       "      <td>...</td>\n",
       "    </tr>\n",
       "    <tr>\n",
       "      <th>517</th>\n",
       "      <td>Vancouver</td>\n",
       "      <td>2010</td>\n",
       "      <td>1.160075</td>\n",
       "      <td>POLYGON ((485911.931 5455587.268, 485910.903 5...</td>\n",
       "    </tr>\n",
       "    <tr>\n",
       "      <th>5493</th>\n",
       "      <td>Vancouver</td>\n",
       "      <td>2020</td>\n",
       "      <td>0.693054</td>\n",
       "      <td>POLYGON ((486989.341 5453053.085, 487006.918 5...</td>\n",
       "    </tr>\n",
       "    <tr>\n",
       "      <th>2517</th>\n",
       "      <td>Vancouver</td>\n",
       "      <td>2020</td>\n",
       "      <td>0.568181</td>\n",
       "      <td>POLYGON ((486989.341 5453053.085, 487006.918 5...</td>\n",
       "    </tr>\n",
       "    <tr>\n",
       "      <th>1525</th>\n",
       "      <td>Vancouver</td>\n",
       "      <td>2015</td>\n",
       "      <td>0.551531</td>\n",
       "      <td>POLYGON ((486989.341 5453053.085, 487006.918 5...</td>\n",
       "    </tr>\n",
       "    <tr>\n",
       "      <th>533</th>\n",
       "      <td>Vancouver</td>\n",
       "      <td>2010</td>\n",
       "      <td>0.545308</td>\n",
       "      <td>POLYGON ((486989.341 5453053.085, 487006.918 5...</td>\n",
       "    </tr>\n",
       "  </tbody>\n",
       "</table>\n",
       "<p>3968 rows × 4 columns</p>\n",
       "</div>"
      ],
      "text/plain": [
       "           city  year  transit_quality  \\\n",
       "5840  Vancouver  2020      4765.249599   \n",
       "2864  Vancouver  2020      4549.568024   \n",
       "5872  Vancouver  2020      4509.035780   \n",
       "1872  Vancouver  2015      4457.191718   \n",
       "880   Vancouver  2010      4420.839584   \n",
       "...         ...   ...              ...   \n",
       "517   Vancouver  2010         1.160075   \n",
       "5493  Vancouver  2020         0.693054   \n",
       "2517  Vancouver  2020         0.568181   \n",
       "1525  Vancouver  2015         0.551531   \n",
       "533   Vancouver  2010         0.545308   \n",
       "\n",
       "                                               geometry  \n",
       "5840  POLYGON ((492095.223 5459290.725, 492082.463 5...  \n",
       "2864  POLYGON ((492095.223 5459290.725, 492082.463 5...  \n",
       "5872  POLYGON ((492085.822 5459067.742, 492071.152 5...  \n",
       "1872  POLYGON ((492095.223 5459290.725, 492082.463 5...  \n",
       "880   POLYGON ((492095.223 5459290.725, 492082.463 5...  \n",
       "...                                                 ...  \n",
       "517   POLYGON ((485911.931 5455587.268, 485910.903 5...  \n",
       "5493  POLYGON ((486989.341 5453053.085, 487006.918 5...  \n",
       "2517  POLYGON ((486989.341 5453053.085, 487006.918 5...  \n",
       "1525  POLYGON ((486989.341 5453053.085, 487006.918 5...  \n",
       "533   POLYGON ((486989.341 5453053.085, 487006.918 5...  \n",
       "\n",
       "[3968 rows x 4 columns]"
      ]
     },
     "execution_count": 5,
     "metadata": {},
     "output_type": "execute_result"
    }
   ],
   "source": [
    "# Preliminary work: Print data as is, prior to any cleaning/analysis\n",
    "# Sort transit quality from highest score to lowest\n",
    "transit.sort_values(by='transit_quality', ascending=False)"
   ]
  },
  {
   "cell_type": "code",
   "execution_count": 6,
   "id": "5591cf7d",
   "metadata": {},
   "outputs": [
    {
     "data": {
      "text/plain": [
       "0.545307569824622"
      ]
     },
     "execution_count": 6,
     "metadata": {},
     "output_type": "execute_result"
    }
   ],
   "source": [
    "transit['transit_quality'].min()"
   ]
  },
  {
   "cell_type": "code",
   "execution_count": 7,
   "id": "1061178d",
   "metadata": {},
   "outputs": [
    {
     "data": {
      "text/plain": [
       "4765.24959913149"
      ]
     },
     "execution_count": 7,
     "metadata": {},
     "output_type": "execute_result"
    }
   ],
   "source": [
    "transit['transit_quality'].max()"
   ]
  },
  {
   "cell_type": "code",
   "execution_count": 8,
   "id": "492e80cc",
   "metadata": {},
   "outputs": [
    {
     "data": {
      "text/plain": [
       "446.5466410165331"
      ]
     },
     "execution_count": 8,
     "metadata": {},
     "output_type": "execute_result"
    }
   ],
   "source": [
    "transit['transit_quality'].mean()"
   ]
  },
  {
   "cell_type": "code",
   "execution_count": 9,
   "id": "f1714a75",
   "metadata": {},
   "outputs": [
    {
     "data": {
      "text/plain": [
       "(array([2789.,  590.,  312.,  157.,   67.,   33.,    7.,    5.,    3.,\n",
       "           5.]),\n",
       " array([5.45307570e-01, 4.77015737e+02, 9.53486166e+02, 1.42995660e+03,\n",
       "        1.90642702e+03, 2.38289745e+03, 2.85936788e+03, 3.33583831e+03,\n",
       "        3.81230874e+03, 4.28877917e+03, 4.76524960e+03]),\n",
       " <BarContainer object of 10 artists>)"
      ]
     },
     "execution_count": 9,
     "metadata": {},
     "output_type": "execute_result"
    },
    {
     "data": {
      "image/png": "[encoded data removed]",
      "text/plain": [
       "<Figure size 432x288 with 1 Axes>"
      ]
     },
     "metadata": {
      "needs_background": "light"
     },
     "output_type": "display_data"
    }
   ],
   "source": [
    "# Notice how the data is heavily right-skewed - fix by sqrt or log\n",
    "plt.hist(transit['transit_quality'])"
   ]
  },
  {
   "cell_type": "markdown",
   "id": "ba9c2bed",
   "metadata": {},
   "source": [
    "## Data Cleaning: Modifying skewed data"
   ]
  },
  {
   "cell_type": "code",
   "execution_count": 10,
   "id": "5bfebc38",
   "metadata": {},
   "outputs": [
    {
     "data": {
      "text/html": [
       "<div>\n",
       "<style scoped>\n",
       "    .dataframe tbody tr th:only-of-type {\n",
       "        vertical-align: middle;\n",
       "    }\n",
       "\n",
       "    .dataframe tbody tr th {\n",
       "        vertical-align: top;\n",
       "    }\n",
       "\n",
       "    .dataframe thead th {\n",
       "        text-align: right;\n",
       "    }\n",
       "</style>\n",
       "<table border=\"1\" class=\"dataframe\">\n",
       "  <thead>\n",
       "    <tr style=\"text-align: right;\">\n",
       "      <th></th>\n",
       "      <th>city</th>\n",
       "      <th>year</th>\n",
       "      <th>transit_quality</th>\n",
       "      <th>geometry</th>\n",
       "      <th>sqrt</th>\n",
       "      <th>log</th>\n",
       "    </tr>\n",
       "  </thead>\n",
       "  <tbody>\n",
       "    <tr>\n",
       "      <th>0</th>\n",
       "      <td>Vancouver</td>\n",
       "      <td>2010</td>\n",
       "      <td>6.232349</td>\n",
       "      <td>POLYGON ((498310.190 5459815.920, 498309.638 5...</td>\n",
       "      <td>2.496467</td>\n",
       "      <td>1.829753</td>\n",
       "    </tr>\n",
       "    <tr>\n",
       "      <th>1</th>\n",
       "      <td>Vancouver</td>\n",
       "      <td>2010</td>\n",
       "      <td>86.331070</td>\n",
       "      <td>POLYGON ((498303.642 5459212.268, 498303.155 5...</td>\n",
       "      <td>9.291451</td>\n",
       "      <td>4.458190</td>\n",
       "    </tr>\n",
       "    <tr>\n",
       "      <th>2</th>\n",
       "      <td>Vancouver</td>\n",
       "      <td>2010</td>\n",
       "      <td>125.565256</td>\n",
       "      <td>POLYGON ((497940.841 5459213.445, 497940.812 5...</td>\n",
       "      <td>11.205590</td>\n",
       "      <td>4.832826</td>\n",
       "    </tr>\n",
       "    <tr>\n",
       "      <th>3</th>\n",
       "      <td>Vancouver</td>\n",
       "      <td>2010</td>\n",
       "      <td>246.654575</td>\n",
       "      <td>POLYGON ((498298.679 5458709.775, 498298.646 5...</td>\n",
       "      <td>15.705240</td>\n",
       "      <td>5.507989</td>\n",
       "    </tr>\n",
       "    <tr>\n",
       "      <th>4</th>\n",
       "      <td>Vancouver</td>\n",
       "      <td>2010</td>\n",
       "      <td>150.230499</td>\n",
       "      <td>POLYGON ((497939.463 5458606.665, 498128.359 5...</td>\n",
       "      <td>12.256855</td>\n",
       "      <td>5.012171</td>\n",
       "    </tr>\n",
       "    <tr>\n",
       "      <th>...</th>\n",
       "      <td>...</td>\n",
       "      <td>...</td>\n",
       "      <td>...</td>\n",
       "      <td>...</td>\n",
       "      <td>...</td>\n",
       "      <td>...</td>\n",
       "    </tr>\n",
       "    <tr>\n",
       "      <th>5947</th>\n",
       "      <td>Vancouver</td>\n",
       "      <td>2020</td>\n",
       "      <td>1795.115966</td>\n",
       "      <td>POLYGON ((491123.035 5459615.245, 491120.710 5...</td>\n",
       "      <td>42.368809</td>\n",
       "      <td>7.492825</td>\n",
       "    </tr>\n",
       "    <tr>\n",
       "      <th>5948</th>\n",
       "      <td>Vancouver</td>\n",
       "      <td>2020</td>\n",
       "      <td>1819.825217</td>\n",
       "      <td>POLYGON ((491676.840 5459587.193, 491605.386 5...</td>\n",
       "      <td>42.659409</td>\n",
       "      <td>7.506496</td>\n",
       "    </tr>\n",
       "    <tr>\n",
       "      <th>5949</th>\n",
       "      <td>Vancouver</td>\n",
       "      <td>2020</td>\n",
       "      <td>1001.975525</td>\n",
       "      <td>POLYGON ((492570.830 5458268.003, 492570.838 5...</td>\n",
       "      <td>31.653997</td>\n",
       "      <td>6.909729</td>\n",
       "    </tr>\n",
       "    <tr>\n",
       "      <th>5950</th>\n",
       "      <td>Vancouver</td>\n",
       "      <td>2020</td>\n",
       "      <td>2782.914647</td>\n",
       "      <td>POLYGON ((492175.437 5458706.854, 492275.116 5...</td>\n",
       "      <td>52.753338</td>\n",
       "      <td>7.931254</td>\n",
       "    </tr>\n",
       "    <tr>\n",
       "      <th>5951</th>\n",
       "      <td>Vancouver</td>\n",
       "      <td>2020</td>\n",
       "      <td>2198.109696</td>\n",
       "      <td>POLYGON ((492742.239 5458227.186, 492740.089 5...</td>\n",
       "      <td>46.884003</td>\n",
       "      <td>7.695353</td>\n",
       "    </tr>\n",
       "  </tbody>\n",
       "</table>\n",
       "<p>3968 rows × 6 columns</p>\n",
       "</div>"
      ],
      "text/plain": [
       "           city  year  transit_quality  \\\n",
       "0     Vancouver  2010         6.232349   \n",
       "1     Vancouver  2010        86.331070   \n",
       "2     Vancouver  2010       125.565256   \n",
       "3     Vancouver  2010       246.654575   \n",
       "4     Vancouver  2010       150.230499   \n",
       "...         ...   ...              ...   \n",
       "5947  Vancouver  2020      1795.115966   \n",
       "5948  Vancouver  2020      1819.825217   \n",
       "5949  Vancouver  2020      1001.975525   \n",
       "5950  Vancouver  2020      2782.914647   \n",
       "5951  Vancouver  2020      2198.109696   \n",
       "\n",
       "                                               geometry       sqrt       log  \n",
       "0     POLYGON ((498310.190 5459815.920, 498309.638 5...   2.496467  1.829753  \n",
       "1     POLYGON ((498303.642 5459212.268, 498303.155 5...   9.291451  4.458190  \n",
       "2     POLYGON ((497940.841 5459213.445, 497940.812 5...  11.205590  4.832826  \n",
       "3     POLYGON ((498298.679 5458709.775, 498298.646 5...  15.705240  5.507989  \n",
       "4     POLYGON ((497939.463 5458606.665, 498128.359 5...  12.256855  5.012171  \n",
       "...                                                 ...        ...       ...  \n",
       "5947  POLYGON ((491123.035 5459615.245, 491120.710 5...  42.368809  7.492825  \n",
       "5948  POLYGON ((491676.840 5459587.193, 491605.386 5...  42.659409  7.506496  \n",
       "5949  POLYGON ((492570.830 5458268.003, 492570.838 5...  31.653997  6.909729  \n",
       "5950  POLYGON ((492175.437 5458706.854, 492275.116 5...  52.753338  7.931254  \n",
       "5951  POLYGON ((492742.239 5458227.186, 492740.089 5...  46.884003  7.695353  \n",
       "\n",
       "[3968 rows x 6 columns]"
      ]
     },
     "execution_count": 10,
     "metadata": {},
     "output_type": "execute_result"
    }
   ],
   "source": [
    "# Square root all transit quality values\n",
    "transit['sqrt'] = transit['transit_quality']**0.5\n",
    "\n",
    "# Next possible fix: apply log to all transit quality values\n",
    "transit['log'] = np.log(transit['transit_quality'])\n",
    "\n",
    "transit"
   ]
  },
  {
   "cell_type": "code",
   "execution_count": 11,
   "id": "e4da410f",
   "metadata": {},
   "outputs": [
    {
     "data": {
      "text/plain": [
       "(array([ 580., 1420.,  732.,  458.,  391.,  224.,  109.,   38.,    8.,\n",
       "           8.]),\n",
       " array([ 0.73844944,  7.56768323, 14.39691701, 21.2261508 , 28.05538459,\n",
       "        34.88461838, 41.71385217, 48.54308596, 55.37231975, 62.20155354,\n",
       "        69.03078733]),\n",
       " <BarContainer object of 10 artists>)"
      ]
     },
     "execution_count": 11,
     "metadata": {},
     "output_type": "execute_result"
    },
    {
     "data": {
      "image/png": "[encoded data removed]",
      "text/plain": [
       "<Figure size 432x288 with 1 Axes>"
      ]
     },
     "metadata": {
      "needs_background": "light"
     },
     "output_type": "display_data"
    }
   ],
   "source": [
    "plt.hist(transit['sqrt'])"
   ]
  },
  {
   "cell_type": "code",
   "execution_count": 12,
   "id": "680b811a",
   "metadata": {},
   "outputs": [
    {
     "data": {
      "text/plain": [
       "<AxesSubplot:>"
      ]
     },
     "execution_count": 12,
     "metadata": {},
     "output_type": "execute_result"
    },
    {
     "data": {
      "image/png": "[encoded data removed]",
      "text/plain": [
       "<Figure size 432x288 with 2 Axes>"
      ]
     },
     "metadata": {
      "needs_background": "light"
     },
     "output_type": "display_data"
    }
   ],
   "source": [
    "transit.plot(column='sqrt', legend=True, legend_kwds={'label':'Transit Quality (sqrt)'})"
   ]
  },
  {
   "cell_type": "code",
   "execution_count": 13,
   "id": "8bf71190",
   "metadata": {},
   "outputs": [
    {
     "data": {
      "text/plain": [
       "0.7384494362003549"
      ]
     },
     "execution_count": 13,
     "metadata": {},
     "output_type": "execute_result"
    }
   ],
   "source": [
    "transit['sqrt'].min()"
   ]
  },
  {
   "cell_type": "code",
   "execution_count": 14,
   "id": "aa83a9c7",
   "metadata": {},
   "outputs": [
    {
     "data": {
      "text/plain": [
       "69.0307873280574"
      ]
     },
     "execution_count": 14,
     "metadata": {},
     "output_type": "execute_result"
    }
   ],
   "source": [
    "transit['sqrt'].max()"
   ]
  },
  {
   "cell_type": "code",
   "execution_count": 15,
   "id": "d936eec4",
   "metadata": {},
   "outputs": [
    {
     "data": {
      "text/plain": [
       "17.84035248958655"
      ]
     },
     "execution_count": 15,
     "metadata": {},
     "output_type": "execute_result"
    }
   ],
   "source": [
    "transit['sqrt'].mean()"
   ]
  },
  {
   "cell_type": "code",
   "execution_count": 16,
   "id": "2b8e44d1",
   "metadata": {},
   "outputs": [
    {
     "data": {
      "text/plain": [
       "(array([   7.,   13.,   26.,   86.,  335., 1027.,  900.,  781.,  677.,\n",
       "         116.]),\n",
       " array([-0.6064053 ,  0.30114575,  1.2086968 ,  2.11624785,  3.0237989 ,\n",
       "         3.93134995,  4.838901  ,  5.74645205,  6.6540031 ,  7.56155415,\n",
       "         8.4691052 ]),\n",
       " <BarContainer object of 10 artists>)"
      ]
     },
     "execution_count": 16,
     "metadata": {},
     "output_type": "execute_result"
    },
    {
     "data": {
      "image/png": "[encoded data removed]",
      "text/plain": [
       "<Figure size 432x288 with 1 Axes>"
      ]
     },
     "metadata": {
      "needs_background": "light"
     },
     "output_type": "display_data"
    }
   ],
   "source": [
    "# Next possible fix: apply log to all transit quality values\n",
    "plt.hist(transit['log'])"
   ]
  },
  {
   "cell_type": "code",
   "execution_count": 17,
   "id": "b56b1805",
   "metadata": {},
   "outputs": [
    {
     "data": {
      "text/plain": [
       "<AxesSubplot:>"
      ]
     },
     "execution_count": 17,
     "metadata": {},
     "output_type": "execute_result"
    },
    {
     "data": {
      "image/png": "[encoded data removed]",
      "text/plain": [
       "<Figure size 432x288 with 2 Axes>"
      ]
     },
     "metadata": {
      "needs_background": "light"
     },
     "output_type": "display_data"
    }
   ],
   "source": [
    "transit.plot(column='log', legend=True, legend_kwds={'label':'Transit Quality (log)'})"
   ]
  },
  {
   "cell_type": "code",
   "execution_count": 18,
   "id": "cf91fac2",
   "metadata": {},
   "outputs": [
    {
     "data": {
      "text/plain": [
       "-0.6064052952014497"
      ]
     },
     "execution_count": 18,
     "metadata": {},
     "output_type": "execute_result"
    }
   ],
   "source": [
    "transit['log'].min()"
   ]
  },
  {
   "cell_type": "code",
   "execution_count": 19,
   "id": "79f30bad",
   "metadata": {},
   "outputs": [
    {
     "data": {
      "text/plain": [
       "8.469105196485888"
      ]
     },
     "execution_count": 19,
     "metadata": {},
     "output_type": "execute_result"
    }
   ],
   "source": [
    "transit['log'].max()"
   ]
  },
  {
   "cell_type": "code",
   "execution_count": 20,
   "id": "9af3e4a5",
   "metadata": {},
   "outputs": [
    {
     "data": {
      "text/plain": [
       "5.357822267444569"
      ]
     },
     "execution_count": 20,
     "metadata": {},
     "output_type": "execute_result"
    }
   ],
   "source": [
    "transit['log'].mean()"
   ]
  },
  {
   "cell_type": "markdown",
   "id": "b4bf309b",
   "metadata": {},
   "source": [
    "## Final Scores: log(transit_quality) + 1"
   ]
  },
  {
   "cell_type": "code",
   "execution_count": 21,
   "id": "89127bfd",
   "metadata": {},
   "outputs": [],
   "source": [
    "# Based on the min/max results above, we could further add 1 to each value so that the numbers fit neatly into a 0 to 10 range\n",
    "transit['quality_score'] = transit['log'] + 1"
   ]
  },
  {
   "cell_type": "code",
   "execution_count": 22,
   "id": "565367ea",
   "metadata": {},
   "outputs": [
    {
     "data": {
      "text/plain": [
       "0.3935947047985503"
      ]
     },
     "execution_count": 22,
     "metadata": {},
     "output_type": "execute_result"
    }
   ],
   "source": [
    "transit['quality_score'].min()"
   ]
  },
  {
   "cell_type": "code",
   "execution_count": 23,
   "id": "06d2ef23",
   "metadata": {},
   "outputs": [
    {
     "data": {
      "text/plain": [
       "9.469105196485888"
      ]
     },
     "execution_count": 23,
     "metadata": {},
     "output_type": "execute_result"
    }
   ],
   "source": [
    "transit['quality_score'].max()"
   ]
  },
  {
   "cell_type": "code",
   "execution_count": 24,
   "id": "8ec85cc8",
   "metadata": {},
   "outputs": [
    {
     "data": {
      "text/plain": [
       "6.357822267444574"
      ]
     },
     "execution_count": 24,
     "metadata": {},
     "output_type": "execute_result"
    }
   ],
   "source": [
    "transit['quality_score'].mean()"
   ]
  },
  {
   "cell_type": "code",
   "execution_count": 25,
   "id": "44124a9f",
   "metadata": {},
   "outputs": [
    {
     "data": {
      "text/plain": [
       "<AxesSubplot:>"
      ]
     },
     "execution_count": 25,
     "metadata": {},
     "output_type": "execute_result"
    },
    {
     "data": {
      "image/png": "[encoded data removed]",
      "text/plain": [
       "<Figure size 432x288 with 2 Axes>"
      ]
     },
     "metadata": {
      "needs_background": "light"
     },
     "output_type": "display_data"
    }
   ],
   "source": [
    "transit.plot(column='quality_score', legend=True, legend_kwds={'label':'Transit Quality (log)'})"
   ]
  },
  {
   "cell_type": "code",
   "execution_count": 26,
   "id": "0ce17e01",
   "metadata": {},
   "outputs": [],
   "source": [
    "# Keep relevant columns after scaling skewed data\n",
    "transit = transit[['city', 'year', 'quality_score', 'geometry']]"
   ]
  },
  {
   "cell_type": "markdown",
   "id": "ed2f7606",
   "metadata": {},
   "source": [
    "## Work in progress"
   ]
  },
  {
   "cell_type": "code",
   "execution_count": 27,
   "id": "aa255092",
   "metadata": {},
   "outputs": [
    {
     "data": {
      "text/html": [
       "<div>\n",
       "<style scoped>\n",
       "    .dataframe tbody tr th:only-of-type {\n",
       "        vertical-align: middle;\n",
       "    }\n",
       "\n",
       "    .dataframe tbody tr th {\n",
       "        vertical-align: top;\n",
       "    }\n",
       "\n",
       "    .dataframe thead th {\n",
       "        text-align: right;\n",
       "    }\n",
       "</style>\n",
       "<table border=\"1\" class=\"dataframe\">\n",
       "  <thead>\n",
       "    <tr style=\"text-align: right;\">\n",
       "      <th></th>\n",
       "      <th>quality_score</th>\n",
       "    </tr>\n",
       "    <tr>\n",
       "      <th>geometry</th>\n",
       "      <th></th>\n",
       "    </tr>\n",
       "  </thead>\n",
       "  <tbody>\n",
       "    <tr>\n",
       "      <th>POLYGON ((492095.223 5459290.725, 492082.463 5...</th>\n",
       "      <td>9.422063</td>\n",
       "    </tr>\n",
       "    <tr>\n",
       "      <th>POLYGON ((492085.822 5459067.742, 492071.152 5...</th>\n",
       "      <td>9.360151</td>\n",
       "    </tr>\n",
       "    <tr>\n",
       "      <th>POLYGON ((491791.753 5458968.754, 491827.146 5...</th>\n",
       "      <td>9.194106</td>\n",
       "    </tr>\n",
       "    <tr>\n",
       "      <th>POLYGON ((492412.349 5458751.986, 492410.459 5...</th>\n",
       "      <td>9.070947</td>\n",
       "    </tr>\n",
       "    <tr>\n",
       "      <th>POLYGON ((492736.965 5458024.229, 492735.252 5...</th>\n",
       "      <td>8.968347</td>\n",
       "    </tr>\n",
       "    <tr>\n",
       "      <th>...</th>\n",
       "      <td>...</td>\n",
       "    </tr>\n",
       "    <tr>\n",
       "      <th>POLYGON ((485906.677 5454843.926, 485906.039 5...</th>\n",
       "      <td>1.878309</td>\n",
       "    </tr>\n",
       "    <tr>\n",
       "      <th>POLYGON ((488407.626 5452158.836, 488427.552 5...</th>\n",
       "      <td>1.839724</td>\n",
       "    </tr>\n",
       "    <tr>\n",
       "      <th>POLYGON ((485056.776 5458146.633, 485053.650 5...</th>\n",
       "      <td>1.727413</td>\n",
       "    </tr>\n",
       "    <tr>\n",
       "      <th>POLYGON ((485911.931 5455587.268, 485910.903 5...</th>\n",
       "      <td>1.215100</td>\n",
       "    </tr>\n",
       "    <tr>\n",
       "      <th>POLYGON ((486989.341 5453053.085, 487006.918 5...</th>\n",
       "      <td>0.466644</td>\n",
       "    </tr>\n",
       "  </tbody>\n",
       "</table>\n",
       "<p>992 rows × 1 columns</p>\n",
       "</div>"
      ],
      "text/plain": [
       "                                                   quality_score\n",
       "geometry                                                        \n",
       "POLYGON ((492095.223 5459290.725, 492082.463 5...       9.422063\n",
       "POLYGON ((492085.822 5459067.742, 492071.152 5...       9.360151\n",
       "POLYGON ((491791.753 5458968.754, 491827.146 5...       9.194106\n",
       "POLYGON ((492412.349 5458751.986, 492410.459 5...       9.070947\n",
       "POLYGON ((492736.965 5458024.229, 492735.252 5...       8.968347\n",
       "...                                                          ...\n",
       "POLYGON ((485906.677 5454843.926, 485906.039 5...       1.878309\n",
       "POLYGON ((488407.626 5452158.836, 488427.552 5...       1.839724\n",
       "POLYGON ((485056.776 5458146.633, 485053.650 5...       1.727413\n",
       "POLYGON ((485911.931 5455587.268, 485910.903 5...       1.215100\n",
       "POLYGON ((486989.341 5453053.085, 487006.918 5...       0.466644\n",
       "\n",
       "[992 rows x 1 columns]"
      ]
     },
     "execution_count": 27,
     "metadata": {},
     "output_type": "execute_result"
    }
   ],
   "source": [
    "# Determine which regions of Vancouver tend to score higher in transit quality\n",
    "transit_quality = transit.groupby('geometry').agg({'quality_score' : 'mean'}).sort_values(by='quality_score', ascending=False)\n",
    "transit_quality"
   ]
  },
  {
   "cell_type": "code",
   "execution_count": 28,
   "id": "28f5fa21",
   "metadata": {},
   "outputs": [
    {
     "data": {
      "text/html": [
       "<div>\n",
       "<style scoped>\n",
       "    .dataframe tbody tr th:only-of-type {\n",
       "        vertical-align: middle;\n",
       "    }\n",
       "\n",
       "    .dataframe tbody tr th {\n",
       "        vertical-align: top;\n",
       "    }\n",
       "\n",
       "    .dataframe thead th {\n",
       "        text-align: right;\n",
       "    }\n",
       "</style>\n",
       "<table border=\"1\" class=\"dataframe\">\n",
       "  <thead>\n",
       "    <tr style=\"text-align: right;\">\n",
       "      <th></th>\n",
       "      <th>quality_score</th>\n",
       "      <th>geometry</th>\n",
       "    </tr>\n",
       "  </thead>\n",
       "  <tbody>\n",
       "    <tr>\n",
       "      <th>0</th>\n",
       "      <td>9.422063</td>\n",
       "      <td>POLYGON ((492095.223 5459290.725, 492082.463 5...</td>\n",
       "    </tr>\n",
       "    <tr>\n",
       "      <th>1</th>\n",
       "      <td>9.360151</td>\n",
       "      <td>POLYGON ((492085.822 5459067.742, 492071.152 5...</td>\n",
       "    </tr>\n",
       "    <tr>\n",
       "      <th>2</th>\n",
       "      <td>9.194106</td>\n",
       "      <td>POLYGON ((491791.753 5458968.754, 491827.146 5...</td>\n",
       "    </tr>\n",
       "    <tr>\n",
       "      <th>3</th>\n",
       "      <td>9.070947</td>\n",
       "      <td>POLYGON ((492412.349 5458751.986, 492410.459 5...</td>\n",
       "    </tr>\n",
       "    <tr>\n",
       "      <th>4</th>\n",
       "      <td>8.968347</td>\n",
       "      <td>POLYGON ((492736.965 5458024.229, 492735.252 5...</td>\n",
       "    </tr>\n",
       "    <tr>\n",
       "      <th>...</th>\n",
       "      <td>...</td>\n",
       "      <td>...</td>\n",
       "    </tr>\n",
       "    <tr>\n",
       "      <th>987</th>\n",
       "      <td>1.878309</td>\n",
       "      <td>POLYGON ((485906.677 5454843.926, 485906.039 5...</td>\n",
       "    </tr>\n",
       "    <tr>\n",
       "      <th>988</th>\n",
       "      <td>1.839724</td>\n",
       "      <td>POLYGON ((488407.626 5452158.836, 488427.552 5...</td>\n",
       "    </tr>\n",
       "    <tr>\n",
       "      <th>989</th>\n",
       "      <td>1.727413</td>\n",
       "      <td>POLYGON ((485056.776 5458146.633, 485053.650 5...</td>\n",
       "    </tr>\n",
       "    <tr>\n",
       "      <th>990</th>\n",
       "      <td>1.215100</td>\n",
       "      <td>POLYGON ((485911.931 5455587.268, 485910.903 5...</td>\n",
       "    </tr>\n",
       "    <tr>\n",
       "      <th>991</th>\n",
       "      <td>0.466644</td>\n",
       "      <td>POLYGON ((486989.341 5453053.085, 487006.918 5...</td>\n",
       "    </tr>\n",
       "  </tbody>\n",
       "</table>\n",
       "<p>992 rows × 2 columns</p>\n",
       "</div>"
      ],
      "text/plain": [
       "     quality_score                                           geometry\n",
       "0         9.422063  POLYGON ((492095.223 5459290.725, 492082.463 5...\n",
       "1         9.360151  POLYGON ((492085.822 5459067.742, 492071.152 5...\n",
       "2         9.194106  POLYGON ((491791.753 5458968.754, 491827.146 5...\n",
       "3         9.070947  POLYGON ((492412.349 5458751.986, 492410.459 5...\n",
       "4         8.968347  POLYGON ((492736.965 5458024.229, 492735.252 5...\n",
       "..             ...                                                ...\n",
       "987       1.878309  POLYGON ((485906.677 5454843.926, 485906.039 5...\n",
       "988       1.839724  POLYGON ((488407.626 5452158.836, 488427.552 5...\n",
       "989       1.727413  POLYGON ((485056.776 5458146.633, 485053.650 5...\n",
       "990       1.215100  POLYGON ((485911.931 5455587.268, 485910.903 5...\n",
       "991       0.466644  POLYGON ((486989.341 5453053.085, 487006.918 5...\n",
       "\n",
       "[992 rows x 2 columns]"
      ]
     },
     "execution_count": 28,
     "metadata": {},
     "output_type": "execute_result"
    }
   ],
   "source": [
    "# Process dataframes more to leave only quality and area of Vancouver for comparisons\n",
    "transit_quality = transit_quality.reset_index()\n",
    "transit_quality = transit_quality[['quality_score', 'geometry']]\n",
    "transit_quality"
   ]
  },
  {
   "cell_type": "code",
   "execution_count": 29,
   "id": "a3ebc1a4",
   "metadata": {},
   "outputs": [
    {
     "data": {
      "text/html": [
       "<div>\n",
       "<style scoped>\n",
       "    .dataframe tbody tr th:only-of-type {\n",
       "        vertical-align: middle;\n",
       "    }\n",
       "\n",
       "    .dataframe tbody tr th {\n",
       "        vertical-align: top;\n",
       "    }\n",
       "\n",
       "    .dataframe thead th {\n",
       "        text-align: right;\n",
       "    }\n",
       "</style>\n",
       "<table border=\"1\" class=\"dataframe\">\n",
       "  <thead>\n",
       "    <tr style=\"text-align: right;\">\n",
       "      <th></th>\n",
       "      <th>city</th>\n",
       "      <th>year</th>\n",
       "      <th>transit_quality</th>\n",
       "      <th>geometry</th>\n",
       "      <th>quality_avg_all_yrs</th>\n",
       "    </tr>\n",
       "  </thead>\n",
       "  <tbody>\n",
       "    <tr>\n",
       "      <th>0</th>\n",
       "      <td>Vancouver</td>\n",
       "      <td>2010</td>\n",
       "      <td>2.829753</td>\n",
       "      <td>POLYGON ((498310.190 5459815.920, 498309.638 5...</td>\n",
       "      <td>2.856574</td>\n",
       "    </tr>\n",
       "    <tr>\n",
       "      <th>1</th>\n",
       "      <td>Vancouver</td>\n",
       "      <td>2015</td>\n",
       "      <td>2.830236</td>\n",
       "      <td>POLYGON ((498310.190 5459815.920, 498309.638 5...</td>\n",
       "      <td>2.856574</td>\n",
       "    </tr>\n",
       "    <tr>\n",
       "      <th>2</th>\n",
       "      <td>Vancouver</td>\n",
       "      <td>2020</td>\n",
       "      <td>2.850788</td>\n",
       "      <td>POLYGON ((498310.190 5459815.920, 498309.638 5...</td>\n",
       "      <td>2.856574</td>\n",
       "    </tr>\n",
       "    <tr>\n",
       "      <th>3</th>\n",
       "      <td>Vancouver</td>\n",
       "      <td>2020</td>\n",
       "      <td>2.915521</td>\n",
       "      <td>POLYGON ((498310.190 5459815.920, 498309.638 5...</td>\n",
       "      <td>2.856574</td>\n",
       "    </tr>\n",
       "    <tr>\n",
       "      <th>4</th>\n",
       "      <td>Vancouver</td>\n",
       "      <td>2010</td>\n",
       "      <td>5.458190</td>\n",
       "      <td>POLYGON ((498303.642 5459212.268, 498303.155 5...</td>\n",
       "      <td>5.510685</td>\n",
       "    </tr>\n",
       "    <tr>\n",
       "      <th>...</th>\n",
       "      <td>...</td>\n",
       "      <td>...</td>\n",
       "      <td>...</td>\n",
       "      <td>...</td>\n",
       "      <td>...</td>\n",
       "    </tr>\n",
       "    <tr>\n",
       "      <th>3963</th>\n",
       "      <td>Vancouver</td>\n",
       "      <td>2020</td>\n",
       "      <td>8.931254</td>\n",
       "      <td>POLYGON ((492175.437 5458706.854, 492275.116 5...</td>\n",
       "      <td>8.882093</td>\n",
       "    </tr>\n",
       "    <tr>\n",
       "      <th>3964</th>\n",
       "      <td>Vancouver</td>\n",
       "      <td>2010</td>\n",
       "      <td>8.613343</td>\n",
       "      <td>POLYGON ((492742.239 5458227.186, 492740.089 5...</td>\n",
       "      <td>8.643686</td>\n",
       "    </tr>\n",
       "    <tr>\n",
       "      <th>3965</th>\n",
       "      <td>Vancouver</td>\n",
       "      <td>2015</td>\n",
       "      <td>8.620476</td>\n",
       "      <td>POLYGON ((492742.239 5458227.186, 492740.089 5...</td>\n",
       "      <td>8.643686</td>\n",
       "    </tr>\n",
       "    <tr>\n",
       "      <th>3966</th>\n",
       "      <td>Vancouver</td>\n",
       "      <td>2020</td>\n",
       "      <td>8.645573</td>\n",
       "      <td>POLYGON ((492742.239 5458227.186, 492740.089 5...</td>\n",
       "      <td>8.643686</td>\n",
       "    </tr>\n",
       "    <tr>\n",
       "      <th>3967</th>\n",
       "      <td>Vancouver</td>\n",
       "      <td>2020</td>\n",
       "      <td>8.695353</td>\n",
       "      <td>POLYGON ((492742.239 5458227.186, 492740.089 5...</td>\n",
       "      <td>8.643686</td>\n",
       "    </tr>\n",
       "  </tbody>\n",
       "</table>\n",
       "<p>3968 rows × 5 columns</p>\n",
       "</div>"
      ],
      "text/plain": [
       "           city  year  transit_quality  \\\n",
       "0     Vancouver  2010         2.829753   \n",
       "1     Vancouver  2015         2.830236   \n",
       "2     Vancouver  2020         2.850788   \n",
       "3     Vancouver  2020         2.915521   \n",
       "4     Vancouver  2010         5.458190   \n",
       "...         ...   ...              ...   \n",
       "3963  Vancouver  2020         8.931254   \n",
       "3964  Vancouver  2010         8.613343   \n",
       "3965  Vancouver  2015         8.620476   \n",
       "3966  Vancouver  2020         8.645573   \n",
       "3967  Vancouver  2020         8.695353   \n",
       "\n",
       "                                               geometry  quality_avg_all_yrs  \n",
       "0     POLYGON ((498310.190 5459815.920, 498309.638 5...             2.856574  \n",
       "1     POLYGON ((498310.190 5459815.920, 498309.638 5...             2.856574  \n",
       "2     POLYGON ((498310.190 5459815.920, 498309.638 5...             2.856574  \n",
       "3     POLYGON ((498310.190 5459815.920, 498309.638 5...             2.856574  \n",
       "4     POLYGON ((498303.642 5459212.268, 498303.155 5...             5.510685  \n",
       "...                                                 ...                  ...  \n",
       "3963  POLYGON ((492175.437 5458706.854, 492275.116 5...             8.882093  \n",
       "3964  POLYGON ((492742.239 5458227.186, 492740.089 5...             8.643686  \n",
       "3965  POLYGON ((492742.239 5458227.186, 492740.089 5...             8.643686  \n",
       "3966  POLYGON ((492742.239 5458227.186, 492740.089 5...             8.643686  \n",
       "3967  POLYGON ((492742.239 5458227.186, 492740.089 5...             8.643686  \n",
       "\n",
       "[3968 rows x 5 columns]"
      ]
     },
     "execution_count": 29,
     "metadata": {},
     "output_type": "execute_result"
    }
   ],
   "source": [
    "# 'transit_quality' = original transit quality score for the given year\n",
    "# 'quality_avg_all_yrs' = average score for region of Vancouver (geometry) across all years\n",
    "transit_merged = transit.merge(transit_quality, on=['geometry'])\n",
    "\n",
    "# Rename columns for clarity\n",
    "transit_merged = transit_merged.rename(columns={'quality_score_x':'transit_quality',\n",
    "                                                'quality_score_y':'quality_avg_all_yrs'})\n",
    "\n",
    "transit_merged"
   ]
  },
  {
   "cell_type": "code",
   "execution_count": 30,
   "id": "3a21b5a0",
   "metadata": {},
   "outputs": [],
   "source": [
    "# Plot map of Vancouver based on geometry shapes in data\n",
    "# transit_quality.plot(column='geometry')"
   ]
  },
  {
   "cell_type": "code",
   "execution_count": 31,
   "id": "1534f858",
   "metadata": {},
   "outputs": [
    {
     "data": {
      "text/html": [
       "<div>\n",
       "<style scoped>\n",
       "    .dataframe tbody tr th:only-of-type {\n",
       "        vertical-align: middle;\n",
       "    }\n",
       "\n",
       "    .dataframe tbody tr th {\n",
       "        vertical-align: top;\n",
       "    }\n",
       "\n",
       "    .dataframe thead th {\n",
       "        text-align: right;\n",
       "    }\n",
       "</style>\n",
       "<table border=\"1\" class=\"dataframe\">\n",
       "  <thead>\n",
       "    <tr style=\"text-align: right;\">\n",
       "      <th></th>\n",
       "      <th>city</th>\n",
       "      <th>year</th>\n",
       "      <th>quality_score</th>\n",
       "      <th>geometry</th>\n",
       "    </tr>\n",
       "  </thead>\n",
       "  <tbody>\n",
       "    <tr>\n",
       "      <th>0</th>\n",
       "      <td>Vancouver</td>\n",
       "      <td>2010</td>\n",
       "      <td>2.829753</td>\n",
       "      <td>POLYGON ((498310.190 5459815.920, 498309.638 5...</td>\n",
       "    </tr>\n",
       "    <tr>\n",
       "      <th>1</th>\n",
       "      <td>Vancouver</td>\n",
       "      <td>2010</td>\n",
       "      <td>5.458190</td>\n",
       "      <td>POLYGON ((498303.642 5459212.268, 498303.155 5...</td>\n",
       "    </tr>\n",
       "    <tr>\n",
       "      <th>2</th>\n",
       "      <td>Vancouver</td>\n",
       "      <td>2010</td>\n",
       "      <td>5.832826</td>\n",
       "      <td>POLYGON ((497940.841 5459213.445, 497940.812 5...</td>\n",
       "    </tr>\n",
       "    <tr>\n",
       "      <th>3</th>\n",
       "      <td>Vancouver</td>\n",
       "      <td>2010</td>\n",
       "      <td>6.507989</td>\n",
       "      <td>POLYGON ((498298.679 5458709.775, 498298.646 5...</td>\n",
       "    </tr>\n",
       "    <tr>\n",
       "      <th>4</th>\n",
       "      <td>Vancouver</td>\n",
       "      <td>2010</td>\n",
       "      <td>6.012171</td>\n",
       "      <td>POLYGON ((497939.463 5458606.665, 498128.359 5...</td>\n",
       "    </tr>\n",
       "    <tr>\n",
       "      <th>...</th>\n",
       "      <td>...</td>\n",
       "      <td>...</td>\n",
       "      <td>...</td>\n",
       "      <td>...</td>\n",
       "    </tr>\n",
       "    <tr>\n",
       "      <th>987</th>\n",
       "      <td>Vancouver</td>\n",
       "      <td>2010</td>\n",
       "      <td>8.413423</td>\n",
       "      <td>POLYGON ((491123.035 5459615.245, 491120.710 5...</td>\n",
       "    </tr>\n",
       "    <tr>\n",
       "      <th>988</th>\n",
       "      <td>Vancouver</td>\n",
       "      <td>2010</td>\n",
       "      <td>8.432154</td>\n",
       "      <td>POLYGON ((491676.840 5459587.193, 491605.386 5...</td>\n",
       "    </tr>\n",
       "    <tr>\n",
       "      <th>989</th>\n",
       "      <td>Vancouver</td>\n",
       "      <td>2010</td>\n",
       "      <td>7.836553</td>\n",
       "      <td>POLYGON ((492570.830 5458268.003, 492570.838 5...</td>\n",
       "    </tr>\n",
       "    <tr>\n",
       "      <th>990</th>\n",
       "      <td>Vancouver</td>\n",
       "      <td>2010</td>\n",
       "      <td>8.853501</td>\n",
       "      <td>POLYGON ((492175.437 5458706.854, 492275.116 5...</td>\n",
       "    </tr>\n",
       "    <tr>\n",
       "      <th>991</th>\n",
       "      <td>Vancouver</td>\n",
       "      <td>2010</td>\n",
       "      <td>8.613343</td>\n",
       "      <td>POLYGON ((492742.239 5458227.186, 492740.089 5...</td>\n",
       "    </tr>\n",
       "  </tbody>\n",
       "</table>\n",
       "<p>992 rows × 4 columns</p>\n",
       "</div>"
      ],
      "text/plain": [
       "          city  year  quality_score  \\\n",
       "0    Vancouver  2010       2.829753   \n",
       "1    Vancouver  2010       5.458190   \n",
       "2    Vancouver  2010       5.832826   \n",
       "3    Vancouver  2010       6.507989   \n",
       "4    Vancouver  2010       6.012171   \n",
       "..         ...   ...            ...   \n",
       "987  Vancouver  2010       8.413423   \n",
       "988  Vancouver  2010       8.432154   \n",
       "989  Vancouver  2010       7.836553   \n",
       "990  Vancouver  2010       8.853501   \n",
       "991  Vancouver  2010       8.613343   \n",
       "\n",
       "                                              geometry  \n",
       "0    POLYGON ((498310.190 5459815.920, 498309.638 5...  \n",
       "1    POLYGON ((498303.642 5459212.268, 498303.155 5...  \n",
       "2    POLYGON ((497940.841 5459213.445, 497940.812 5...  \n",
       "3    POLYGON ((498298.679 5458709.775, 498298.646 5...  \n",
       "4    POLYGON ((497939.463 5458606.665, 498128.359 5...  \n",
       "..                                                 ...  \n",
       "987  POLYGON ((491123.035 5459615.245, 491120.710 5...  \n",
       "988  POLYGON ((491676.840 5459587.193, 491605.386 5...  \n",
       "989  POLYGON ((492570.830 5458268.003, 492570.838 5...  \n",
       "990  POLYGON ((492175.437 5458706.854, 492275.116 5...  \n",
       "991  POLYGON ((492742.239 5458227.186, 492740.089 5...  \n",
       "\n",
       "[992 rows x 4 columns]"
      ]
     },
     "execution_count": 31,
     "metadata": {},
     "output_type": "execute_result"
    }
   ],
   "source": [
    "# Data range: 2010, 2015, 2020\n",
    "# Extract relevant years into separate dataframes\n",
    "transit_2010 = transit[transit['year'] == 2010]\n",
    "transit_2010"
   ]
  },
  {
   "cell_type": "code",
   "execution_count": 32,
   "id": "c924b612",
   "metadata": {
    "scrolled": true
   },
   "outputs": [
    {
     "data": {
      "text/plain": [
       "6.196180441857331"
      ]
     },
     "execution_count": 32,
     "metadata": {},
     "output_type": "execute_result"
    }
   ],
   "source": [
    "transit_2010['quality_score'].mean()"
   ]
  },
  {
   "cell_type": "code",
   "execution_count": 33,
   "id": "02b07461",
   "metadata": {},
   "outputs": [
    {
     "data": {
      "text/html": [
       "<div>\n",
       "<style scoped>\n",
       "    .dataframe tbody tr th:only-of-type {\n",
       "        vertical-align: middle;\n",
       "    }\n",
       "\n",
       "    .dataframe tbody tr th {\n",
       "        vertical-align: top;\n",
       "    }\n",
       "\n",
       "    .dataframe thead th {\n",
       "        text-align: right;\n",
       "    }\n",
       "</style>\n",
       "<table border=\"1\" class=\"dataframe\">\n",
       "  <thead>\n",
       "    <tr style=\"text-align: right;\">\n",
       "      <th></th>\n",
       "      <th>city</th>\n",
       "      <th>year</th>\n",
       "      <th>quality_score</th>\n",
       "      <th>geometry</th>\n",
       "    </tr>\n",
       "  </thead>\n",
       "  <tbody>\n",
       "    <tr>\n",
       "      <th>992</th>\n",
       "      <td>Vancouver</td>\n",
       "      <td>2015</td>\n",
       "      <td>2.830236</td>\n",
       "      <td>POLYGON ((498310.190 5459815.920, 498309.638 5...</td>\n",
       "    </tr>\n",
       "    <tr>\n",
       "      <th>993</th>\n",
       "      <td>Vancouver</td>\n",
       "      <td>2015</td>\n",
       "      <td>5.458358</td>\n",
       "      <td>POLYGON ((498303.642 5459212.268, 498303.155 5...</td>\n",
       "    </tr>\n",
       "    <tr>\n",
       "      <th>994</th>\n",
       "      <td>Vancouver</td>\n",
       "      <td>2015</td>\n",
       "      <td>5.832944</td>\n",
       "      <td>POLYGON ((497940.841 5459213.445, 497940.812 5...</td>\n",
       "    </tr>\n",
       "    <tr>\n",
       "      <th>995</th>\n",
       "      <td>Vancouver</td>\n",
       "      <td>2015</td>\n",
       "      <td>6.508120</td>\n",
       "      <td>POLYGON ((498298.679 5458709.775, 498298.646 5...</td>\n",
       "    </tr>\n",
       "    <tr>\n",
       "      <th>996</th>\n",
       "      <td>Vancouver</td>\n",
       "      <td>2015</td>\n",
       "      <td>6.012399</td>\n",
       "      <td>POLYGON ((497939.463 5458606.665, 498128.359 5...</td>\n",
       "    </tr>\n",
       "    <tr>\n",
       "      <th>...</th>\n",
       "      <td>...</td>\n",
       "      <td>...</td>\n",
       "      <td>...</td>\n",
       "      <td>...</td>\n",
       "    </tr>\n",
       "    <tr>\n",
       "      <th>1979</th>\n",
       "      <td>Vancouver</td>\n",
       "      <td>2015</td>\n",
       "      <td>8.420976</td>\n",
       "      <td>POLYGON ((491123.035 5459615.245, 491120.710 5...</td>\n",
       "    </tr>\n",
       "    <tr>\n",
       "      <th>1980</th>\n",
       "      <td>Vancouver</td>\n",
       "      <td>2015</td>\n",
       "      <td>8.440356</td>\n",
       "      <td>POLYGON ((491676.840 5459587.193, 491605.386 5...</td>\n",
       "    </tr>\n",
       "    <tr>\n",
       "      <th>1981</th>\n",
       "      <td>Vancouver</td>\n",
       "      <td>2015</td>\n",
       "      <td>7.844865</td>\n",
       "      <td>POLYGON ((492570.830 5458268.003, 492570.838 5...</td>\n",
       "    </tr>\n",
       "    <tr>\n",
       "      <th>1982</th>\n",
       "      <td>Vancouver</td>\n",
       "      <td>2015</td>\n",
       "      <td>8.861268</td>\n",
       "      <td>POLYGON ((492175.437 5458706.854, 492275.116 5...</td>\n",
       "    </tr>\n",
       "    <tr>\n",
       "      <th>1983</th>\n",
       "      <td>Vancouver</td>\n",
       "      <td>2015</td>\n",
       "      <td>8.620476</td>\n",
       "      <td>POLYGON ((492742.239 5458227.186, 492740.089 5...</td>\n",
       "    </tr>\n",
       "  </tbody>\n",
       "</table>\n",
       "<p>992 rows × 4 columns</p>\n",
       "</div>"
      ],
      "text/plain": [
       "           city  year  quality_score  \\\n",
       "992   Vancouver  2015       2.830236   \n",
       "993   Vancouver  2015       5.458358   \n",
       "994   Vancouver  2015       5.832944   \n",
       "995   Vancouver  2015       6.508120   \n",
       "996   Vancouver  2015       6.012399   \n",
       "...         ...   ...            ...   \n",
       "1979  Vancouver  2015       8.420976   \n",
       "1980  Vancouver  2015       8.440356   \n",
       "1981  Vancouver  2015       7.844865   \n",
       "1982  Vancouver  2015       8.861268   \n",
       "1983  Vancouver  2015       8.620476   \n",
       "\n",
       "                                               geometry  \n",
       "992   POLYGON ((498310.190 5459815.920, 498309.638 5...  \n",
       "993   POLYGON ((498303.642 5459212.268, 498303.155 5...  \n",
       "994   POLYGON ((497940.841 5459213.445, 497940.812 5...  \n",
       "995   POLYGON ((498298.679 5458709.775, 498298.646 5...  \n",
       "996   POLYGON ((497939.463 5458606.665, 498128.359 5...  \n",
       "...                                                 ...  \n",
       "1979  POLYGON ((491123.035 5459615.245, 491120.710 5...  \n",
       "1980  POLYGON ((491676.840 5459587.193, 491605.386 5...  \n",
       "1981  POLYGON ((492570.830 5458268.003, 492570.838 5...  \n",
       "1982  POLYGON ((492175.437 5458706.854, 492275.116 5...  \n",
       "1983  POLYGON ((492742.239 5458227.186, 492740.089 5...  \n",
       "\n",
       "[992 rows x 4 columns]"
      ]
     },
     "execution_count": 33,
     "metadata": {},
     "output_type": "execute_result"
    }
   ],
   "source": [
    "transit_2015 = transit[transit['year'] == 2015]\n",
    "transit_2015"
   ]
  },
  {
   "cell_type": "code",
   "execution_count": 34,
   "id": "6088a969",
   "metadata": {},
   "outputs": [
    {
     "data": {
      "text/plain": [
       "6.370723077134794"
      ]
     },
     "execution_count": 34,
     "metadata": {},
     "output_type": "execute_result"
    }
   ],
   "source": [
    "transit_2015['quality_score'].mean()"
   ]
  },
  {
   "cell_type": "code",
   "execution_count": 35,
   "id": "77f724fe",
   "metadata": {},
   "outputs": [
    {
     "data": {
      "text/html": [
       "<div>\n",
       "<style scoped>\n",
       "    .dataframe tbody tr th:only-of-type {\n",
       "        vertical-align: middle;\n",
       "    }\n",
       "\n",
       "    .dataframe tbody tr th {\n",
       "        vertical-align: top;\n",
       "    }\n",
       "\n",
       "    .dataframe thead th {\n",
       "        text-align: right;\n",
       "    }\n",
       "</style>\n",
       "<table border=\"1\" class=\"dataframe\">\n",
       "  <thead>\n",
       "    <tr style=\"text-align: right;\">\n",
       "      <th></th>\n",
       "      <th>city</th>\n",
       "      <th>year</th>\n",
       "      <th>quality_score</th>\n",
       "      <th>geometry</th>\n",
       "    </tr>\n",
       "  </thead>\n",
       "  <tbody>\n",
       "    <tr>\n",
       "      <th>1984</th>\n",
       "      <td>Vancouver</td>\n",
       "      <td>2020</td>\n",
       "      <td>2.850788</td>\n",
       "      <td>POLYGON ((498310.190 5459815.920, 498309.638 5...</td>\n",
       "    </tr>\n",
       "    <tr>\n",
       "      <th>1985</th>\n",
       "      <td>Vancouver</td>\n",
       "      <td>2020</td>\n",
       "      <td>5.500227</td>\n",
       "      <td>POLYGON ((498303.642 5459212.268, 498303.155 5...</td>\n",
       "    </tr>\n",
       "    <tr>\n",
       "      <th>1986</th>\n",
       "      <td>Vancouver</td>\n",
       "      <td>2020</td>\n",
       "      <td>5.879355</td>\n",
       "      <td>POLYGON ((497940.841 5459213.445, 497940.812 5...</td>\n",
       "    </tr>\n",
       "    <tr>\n",
       "      <th>1987</th>\n",
       "      <td>Vancouver</td>\n",
       "      <td>2020</td>\n",
       "      <td>6.553959</td>\n",
       "      <td>POLYGON ((498298.679 5458709.775, 498298.646 5...</td>\n",
       "    </tr>\n",
       "    <tr>\n",
       "      <th>1988</th>\n",
       "      <td>Vancouver</td>\n",
       "      <td>2020</td>\n",
       "      <td>6.058400</td>\n",
       "      <td>POLYGON ((497939.463 5458606.665, 498128.359 5...</td>\n",
       "    </tr>\n",
       "    <tr>\n",
       "      <th>...</th>\n",
       "      <td>...</td>\n",
       "      <td>...</td>\n",
       "      <td>...</td>\n",
       "      <td>...</td>\n",
       "    </tr>\n",
       "    <tr>\n",
       "      <th>5947</th>\n",
       "      <td>Vancouver</td>\n",
       "      <td>2020</td>\n",
       "      <td>8.492825</td>\n",
       "      <td>POLYGON ((491123.035 5459615.245, 491120.710 5...</td>\n",
       "    </tr>\n",
       "    <tr>\n",
       "      <th>5948</th>\n",
       "      <td>Vancouver</td>\n",
       "      <td>2020</td>\n",
       "      <td>8.506496</td>\n",
       "      <td>POLYGON ((491676.840 5459587.193, 491605.386 5...</td>\n",
       "    </tr>\n",
       "    <tr>\n",
       "      <th>5949</th>\n",
       "      <td>Vancouver</td>\n",
       "      <td>2020</td>\n",
       "      <td>7.909729</td>\n",
       "      <td>POLYGON ((492570.830 5458268.003, 492570.838 5...</td>\n",
       "    </tr>\n",
       "    <tr>\n",
       "      <th>5950</th>\n",
       "      <td>Vancouver</td>\n",
       "      <td>2020</td>\n",
       "      <td>8.931254</td>\n",
       "      <td>POLYGON ((492175.437 5458706.854, 492275.116 5...</td>\n",
       "    </tr>\n",
       "    <tr>\n",
       "      <th>5951</th>\n",
       "      <td>Vancouver</td>\n",
       "      <td>2020</td>\n",
       "      <td>8.695353</td>\n",
       "      <td>POLYGON ((492742.239 5458227.186, 492740.089 5...</td>\n",
       "    </tr>\n",
       "  </tbody>\n",
       "</table>\n",
       "<p>1984 rows × 4 columns</p>\n",
       "</div>"
      ],
      "text/plain": [
       "           city  year  quality_score  \\\n",
       "1984  Vancouver  2020       2.850788   \n",
       "1985  Vancouver  2020       5.500227   \n",
       "1986  Vancouver  2020       5.879355   \n",
       "1987  Vancouver  2020       6.553959   \n",
       "1988  Vancouver  2020       6.058400   \n",
       "...         ...   ...            ...   \n",
       "5947  Vancouver  2020       8.492825   \n",
       "5948  Vancouver  2020       8.506496   \n",
       "5949  Vancouver  2020       7.909729   \n",
       "5950  Vancouver  2020       8.931254   \n",
       "5951  Vancouver  2020       8.695353   \n",
       "\n",
       "                                               geometry  \n",
       "1984  POLYGON ((498310.190 5459815.920, 498309.638 5...  \n",
       "1985  POLYGON ((498303.642 5459212.268, 498303.155 5...  \n",
       "1986  POLYGON ((497940.841 5459213.445, 497940.812 5...  \n",
       "1987  POLYGON ((498298.679 5458709.775, 498298.646 5...  \n",
       "1988  POLYGON ((497939.463 5458606.665, 498128.359 5...  \n",
       "...                                                 ...  \n",
       "5947  POLYGON ((491123.035 5459615.245, 491120.710 5...  \n",
       "5948  POLYGON ((491676.840 5459587.193, 491605.386 5...  \n",
       "5949  POLYGON ((492570.830 5458268.003, 492570.838 5...  \n",
       "5950  POLYGON ((492175.437 5458706.854, 492275.116 5...  \n",
       "5951  POLYGON ((492742.239 5458227.186, 492740.089 5...  \n",
       "\n",
       "[1984 rows x 4 columns]"
      ]
     },
     "execution_count": 35,
     "metadata": {},
     "output_type": "execute_result"
    }
   ],
   "source": [
    "transit_2020 = transit[transit['year'] == 2020]\n",
    "transit_2020"
   ]
  },
  {
   "cell_type": "code",
   "execution_count": 36,
   "id": "c38bae74",
   "metadata": {},
   "outputs": [
    {
     "data": {
      "text/plain": [
       "6.432192775393023"
      ]
     },
     "execution_count": 36,
     "metadata": {},
     "output_type": "execute_result"
    }
   ],
   "source": [
    "transit_2020['quality_score'].mean()"
   ]
  },
  {
   "cell_type": "code",
   "execution_count": null,
   "id": "d905fa35",
   "metadata": {},
   "outputs": [],
   "source": []
  }
 ],
 "metadata": {
  "kernelspec": {
   "display_name": "Python 3 (ipykernel)",
   "language": "python",
   "name": "python3"
  },
  "language_info": {
   "codemirror_mode": {
    "name": "ipython",
    "version": 3
   },
   "file_extension": ".py",
   "mimetype": "text/x-python",
   "name": "python",
   "nbconvert_exporter": "python",
   "pygments_lexer": "ipython3",
   "version": "3.9.12"
  }
 },
 "nbformat": 4,
 "nbformat_minor": 5
}
