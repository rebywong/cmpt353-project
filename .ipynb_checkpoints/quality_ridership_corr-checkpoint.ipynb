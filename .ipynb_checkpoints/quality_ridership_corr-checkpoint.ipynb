{
 "cells": [
  {
   "cell_type": "code",
   "execution_count": 1,
   "id": "37054027-d498-47a8-b8aa-33a8d5b1270f",
   "metadata": {
    "tags": []
   },
   "outputs": [],
   "source": [
    "import geopandas as gpd\n",
    "import matplotlib.pyplot as plt\n",
    "import numpy as np\n",
    "import pandas as pd\n",
    "from shapely import affinity\n",
    "from scipy import stats"
   ]
  },
  {
   "cell_type": "code",
   "execution_count": 2,
   "id": "5068fe4b-0ad8-4f48-a193-df7f215d7332",
   "metadata": {
    "tags": []
   },
   "outputs": [
    {
     "name": "stdout",
     "output_type": "stream",
     "text": [
      "contingency: [year\n",
      "2010    5.196180\n",
      "2015    5.370723\n",
      "2020    5.432193\n",
      "Name: transit_quality, dtype: float64, Year\n",
      "2010    347.19\n",
      "2015    362.92\n",
      "2020    218.10\n",
      "Name: boardings, dtype: float64]\n",
      "chi-square p-value: 0.6212785480746341\n",
      "chi-square expected frequencies: [[  5.97098721   6.24048081   3.78762828]\n",
      " [346.41519324 362.05024227 219.74456449]]\n"
     ]
    },
    {
     "data": {
      "text/html": [
       "<div>\n",
       "<style scoped>\n",
       "    .dataframe tbody tr th:only-of-type {\n",
       "        vertical-align: middle;\n",
       "    }\n",
       "\n",
       "    .dataframe tbody tr th {\n",
       "        vertical-align: top;\n",
       "    }\n",
       "\n",
       "    .dataframe thead th {\n",
       "        text-align: right;\n",
       "    }\n",
       "</style>\n",
       "<table border=\"1\" class=\"dataframe\">\n",
       "  <thead>\n",
       "    <tr style=\"text-align: right;\">\n",
       "      <th></th>\n",
       "      <th>quality_score</th>\n",
       "      <th>ridership</th>\n",
       "    </tr>\n",
       "  </thead>\n",
       "  <tbody>\n",
       "    <tr>\n",
       "      <th>quality_score</th>\n",
       "      <td>1.00000</td>\n",
       "      <td>-0.62739</td>\n",
       "    </tr>\n",
       "    <tr>\n",
       "      <th>ridership</th>\n",
       "      <td>-0.62739</td>\n",
       "      <td>1.00000</td>\n",
       "    </tr>\n",
       "  </tbody>\n",
       "</table>\n",
       "</div>"
      ],
      "text/plain": [
       "               quality_score  ridership\n",
       "quality_score        1.00000   -0.62739\n",
       "ridership           -0.62739    1.00000"
      ]
     },
     "execution_count": 2,
     "metadata": {},
     "output_type": "execute_result"
    }
   ],
   "source": [
    "ridership = gpd.read_file('data/translink-historic-ridership-trend.csv')\n",
    "ridership = ridership.rename(columns={'Conventional System Boardings': 'boardings'})\n",
    "\n",
    "transitQuality = gpd.read_file('data/transit.zip')\n",
    "transitQuality = transitQuality.rename(columns={'csdname':'city', 'policy_yea':'year', 'transit_qu':'transit_quality'})\n",
    "\n",
    "transitQuality = transitQuality[['year', 'transit_quality']]\n",
    "transitQuality = transitQuality[(transitQuality['year'] <= 2020)]\n",
    "# transit.plot(column='geometry')\n",
    "# transit = transit[transit['year'] == 2015]\n",
    "# transitQuality\n",
    "\n",
    "transitQuality['transit_quality'] = np.log(transitQuality['transit_quality'])\n",
    "meanTransitQualities = transitQuality.groupby('year').agg({'transit_quality' : 'mean'}).sort_values(by='year')\n",
    "meanTransitQualities\n",
    "\n",
    "ridership['Year'] = ridership['Year'].astype(int)\n",
    "ridership['boardings'] = ridership['boardings'].astype(float)\n",
    "ridership = ridership[(ridership['Year'] == 2010) | (ridership['Year'] == 2015) | (ridership['Year'] == 2020)]\n",
    "ridership = ridership.set_index('Year')\n",
    "# ridership\n",
    "# print(ridership.iloc[0]['Year'].dtype)\n",
    "\n",
    "# print(type(ridership['boardings'].iloc[0]))\n",
    "contingency = [meanTransitQualities['transit_quality'], ridership['boardings']]\n",
    "chi2, p, dof, expected = stats.chi2_contingency(contingency)\n",
    "print(\"contingency:\", contingency)\n",
    "print(\"chi-square p-value:\", p)\n",
    "print(\"chi-square expected frequencies:\", expected)\n",
    "\n",
    "data = {'quality_score' : meanTransitQualities['transit_quality'], 'ridership' : ridership['boardings']}\n",
    "p_df = pd.DataFrame(data=data)\n",
    "p_df.corr(method='pearson')"
   ]
  }
 ],
 "metadata": {
  "kernelspec": {
   "display_name": "Python 3 (ipykernel)",
   "language": "python",
   "name": "python3"
  },
  "language_info": {
   "codemirror_mode": {
    "name": "ipython",
    "version": 3
   },
   "file_extension": ".py",
   "mimetype": "text/x-python",
   "name": "python",
   "nbconvert_exporter": "python",
   "pygments_lexer": "ipython3",
   "version": "3.10.1"
  }
 },
 "nbformat": 4,
 "nbformat_minor": 5
}
